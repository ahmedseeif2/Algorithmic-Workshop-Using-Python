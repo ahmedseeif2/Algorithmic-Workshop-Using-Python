{
 "cells": [
  {
   "cell_type": "code",
   "execution_count": 22,
   "metadata": {},
   "outputs": [],
   "source": [
    "## Question1"
   ]
  },
  {
   "cell_type": "code",
   "execution_count": 126,
   "metadata": {},
   "outputs": [
    {
     "name": "stdout",
     "output_type": "stream",
     "text": [
      "[10, 33, 65, 20, 30]\n",
      "[10, 33, 65, 20]\n"
     ]
    }
   ],
   "source": [
    "stack=[]\n",
    "def Push(x):\n",
    "    stack.append(x)\n",
    "    \n",
    "def Pop(x):\n",
    "    val=-1\n",
    "    y=len(stack)\n",
    "    if y>0:\n",
    "        val=stack[y-1]\n",
    "        stack.remove(val)\n",
    "    return val\n",
    "Push(10)\n",
    "Push(33)\n",
    "Push(65)\n",
    "Push(20)\n",
    "Push(30)\n",
    "print(stack)\n",
    "Pop(30)\n",
    "print(stack)"
   ]
  },
  {
   "cell_type": "code",
   "execution_count": null,
   "metadata": {},
   "outputs": [],
   "source": []
  },
  {
   "cell_type": "code",
   "execution_count": 127,
   "metadata": {},
   "outputs": [
    {
     "name": "stdout",
     "output_type": "stream",
     "text": [
      "[10, 20, 30]\n",
      "[20, 30]\n"
     ]
    }
   ],
   "source": [
    "queue=[]\n",
    "\n",
    "def Enqueue(x):\n",
    "    queue.append(x)\n",
    "    \n",
    "def Dequeue():\n",
    "    val=-1\n",
    "    i=0\n",
    "    y=len(queue)\n",
    "    if y>0:\n",
    "        val=queue[0]\n",
    "        while i<y-1:\n",
    "            queue[i]=queue[i+1]\n",
    "            i+=1\n",
    "        queue.remove(queue[y-1])\n",
    "    return val\n",
    "\n",
    "Enqueue(10)\n",
    "Enqueue(20)\n",
    "Enqueue(30)\n",
    "print(queue)\n",
    "Dequeue()\n",
    "print(queue)\n"
   ]
  },
  {
   "cell_type": "code",
   "execution_count": null,
   "metadata": {},
   "outputs": [],
   "source": [
    "##question 2 Reverse The Stack"
   ]
  },
  {
   "cell_type": "code",
   "execution_count": 128,
   "metadata": {},
   "outputs": [
    {
     "name": "stdout",
     "output_type": "stream",
     "text": [
      "[10, 33, 65, 20, 30]\n",
      "[33, 65, 20, 30]\n"
     ]
    }
   ],
   "source": [
    "stack=[]\n",
    "def Push(x):\n",
    "    stack.append(x)\n",
    "    \n",
    "def Pop():\n",
    "    val=-1\n",
    "    i=0\n",
    "    y=len(stack)\n",
    "    if y>0:\n",
    "        val=stack[0]\n",
    "        while i<y-1:\n",
    "            stack[i]=stack[i+1]\n",
    "            i+=1\n",
    "        stack.remove(stack[y-1])\n",
    "    return val\n",
    "Push(10)\n",
    "Push(33)\n",
    "Push(65)\n",
    "Push(20)\n",
    "Push(30)\n",
    "print(stack)\n",
    "Pop()\n",
    "print(stack)"
   ]
  },
  {
   "cell_type": "code",
   "execution_count": 1,
   "metadata": {},
   "outputs": [],
   "source": [
    "##question 3\n"
   ]
  },
  {
   "cell_type": "code",
   "execution_count": 129,
   "metadata": {},
   "outputs": [
    {
     "name": "stdout",
     "output_type": "stream",
     "text": [
      "[10, 20, 30, 3, 50, 60]\n",
      "[20, 30, 3, 50, 60]\n",
      "The Value of the queue location of index 2 is 3\n"
     ]
    },
    {
     "data": {
      "text/plain": [
       "3"
      ]
     },
     "execution_count": 129,
     "metadata": {},
     "output_type": "execute_result"
    }
   ],
   "source": [
    "queue=[]\n",
    "\n",
    "def Enqueue(x):\n",
    "    queue.append(x)\n",
    "    \n",
    "def Dequeue():\n",
    "    val=-1\n",
    "    i=0\n",
    "    y=len(queue)\n",
    "    if y>0:\n",
    "        val=queue[0]\n",
    "        while i<y-1:\n",
    "            queue[i]=queue[i+1]\n",
    "            i+=1\n",
    "        queue.remove(queue[y-1])\n",
    "    return val\n",
    "def valu_of_queue(i):\n",
    "    print(f'The Value of the queue location of index {i} is', queue[i])\n",
    "    return queue[i]\n",
    "    \n",
    "    \n",
    "Enqueue(10)\n",
    "Enqueue(20)\n",
    "Enqueue(30)\n",
    "Enqueue(3)\n",
    "Enqueue(50)\n",
    "Enqueue(60)\n",
    "print(queue)\n",
    "Dequeue()\n",
    "print(queue)\n",
    "valu_of_queue(2)"
   ]
  },
  {
   "cell_type": "code",
   "execution_count": null,
   "metadata": {},
   "outputs": [],
   "source": [
    "##question 4\n"
   ]
  },
  {
   "cell_type": "code",
   "execution_count": 130,
   "metadata": {},
   "outputs": [
    {
     "data": {
      "text/plain": [
       "8"
      ]
     },
     "execution_count": 130,
     "metadata": {},
     "output_type": "execute_result"
    }
   ],
   "source": [
    "#Itration\n",
    "\n",
    "def power(x, n):\n",
    " \n",
    "    pow = 1\n",
    " \n",
    "    for i in range(n):\n",
    "        pow = pow * x\n",
    " \n",
    "    return pow\n",
    "power(2,3)"
   ]
  },
  {
   "cell_type": "code",
   "execution_count": null,
   "metadata": {},
   "outputs": [],
   "source": [
    "The complexity of the function: O(n)"
   ]
  },
  {
   "cell_type": "code",
   "execution_count": null,
   "metadata": {},
   "outputs": [],
   "source": []
  },
  {
   "cell_type": "code",
   "execution_count": 131,
   "metadata": {},
   "outputs": [
    {
     "data": {
      "text/plain": [
       "16"
      ]
     },
     "execution_count": 131,
     "metadata": {},
     "output_type": "execute_result"
    }
   ],
   "source": [
    "# Recursive\n",
    "\n",
    "def power(x, n):\n",
    " \n",
    "    if (n == 0):\n",
    "        return 1\n",
    " \n",
    "    if( n % 2 == 1):    \n",
    "        return x * power(x, n // 2) * power(x, n // 2)\n",
    " \n",
    "    return power(x, n // 2) * power(x, n // 2)\n",
    "power(-2,5) \n",
    "power(-2,4) "
   ]
  },
  {
   "cell_type": "code",
   "execution_count": null,
   "metadata": {},
   "outputs": [],
   "source": [
    "The complexity of the function: O(n)"
   ]
  },
  {
   "cell_type": "code",
   "execution_count": null,
   "metadata": {},
   "outputs": [],
   "source": [
    "##question 5\n",
    "##Recursion \n"
   ]
  },
  {
   "cell_type": "code",
   "execution_count": 132,
   "metadata": {},
   "outputs": [
    {
     "data": {
      "text/plain": [
       "610"
      ]
     },
     "execution_count": 132,
     "metadata": {},
     "output_type": "execute_result"
    }
   ],
   "source": [
    "def recursion_fibon(n):\n",
    "    if n <= 1:\n",
    "        return n\n",
    "    else:\n",
    "        return(recursion_fibon(n-1) + recursion_fibon(n-2))\n",
    "    \n",
    "recursion_fibon(15)"
   ]
  },
  {
   "cell_type": "code",
   "execution_count": null,
   "metadata": {},
   "outputs": [],
   "source": [
    "T(n) = T(n-1) + T(n-2) + 1\n",
    "T(n) = 2T(n-1) + 1\n",
    "The complexity will be O(2**n)\n"
   ]
  },
  {
   "cell_type": "code",
   "execution_count": 133,
   "metadata": {},
   "outputs": [
    {
     "name": "stdout",
     "output_type": "stream",
     "text": [
      "34\n"
     ]
    }
   ],
   "source": [
    "##Function \n",
    "\n",
    "\n",
    "Fib = [0, 1]\n",
    "\n",
    "def fibonacci(n):\n",
    "    if n<0:\n",
    "        print(\"No\")\n",
    "    elif n<= len(Fib):\n",
    "        return Fib[n-1]\n",
    "    else:\n",
    "        temp_fib = fibonacci(n-1)+fibonacci(n-2)\n",
    "        Fib.append(temp_fib)\n",
    "        return temp_fib\n",
    "\n",
    "print(fibonacci(10))\n"
   ]
  },
  {
   "cell_type": "code",
   "execution_count": null,
   "metadata": {},
   "outputs": [],
   "source": [
    "The complexity will be\n",
    "T(n) = O(n-1) + O(1)\n",
    "T(n) = O(n)"
   ]
  },
  {
   "cell_type": "code",
   "execution_count": null,
   "metadata": {},
   "outputs": [],
   "source": []
  },
  {
   "cell_type": "code",
   "execution_count": null,
   "metadata": {},
   "outputs": [],
   "source": []
  },
  {
   "cell_type": "code",
   "execution_count": null,
   "metadata": {},
   "outputs": [],
   "source": [
    "##Question 6"
   ]
  },
  {
   "cell_type": "code",
   "execution_count": 134,
   "metadata": {},
   "outputs": [
    {
     "data": {
      "text/plain": [
       "True"
      ]
     },
     "execution_count": 134,
     "metadata": {},
     "output_type": "execute_result"
    }
   ],
   "source": [
    "def search(lst,n):\n",
    "    for i in range(len(lst) -1):\n",
    "        if lst[i] == n :\n",
    "            return  True\n",
    "        return False\n",
    "\n",
    "\n",
    "lst=[2,4,5,6,7,8,95,10]\n",
    "n = 2\n",
    "search(lst,n)\n",
    "    \n"
   ]
  },
  {
   "cell_type": "code",
   "execution_count": null,
   "metadata": {},
   "outputs": [],
   "source": [
    "T(n) = (n+1) + (1)\n",
    "T(n) = O(n)\n"
   ]
  },
  {
   "cell_type": "code",
   "execution_count": null,
   "metadata": {},
   "outputs": [],
   "source": []
  }
 ],
 "metadata": {
  "kernelspec": {
   "display_name": "Python 3",
   "language": "python",
   "name": "python3"
  },
  "language_info": {
   "codemirror_mode": {
    "name": "ipython",
    "version": 3
   },
   "file_extension": ".py",
   "mimetype": "text/x-python",
   "name": "python",
   "nbconvert_exporter": "python",
   "pygments_lexer": "ipython3",
   "version": "3.8.5"
  }
 },
 "nbformat": 4,
 "nbformat_minor": 4
}
