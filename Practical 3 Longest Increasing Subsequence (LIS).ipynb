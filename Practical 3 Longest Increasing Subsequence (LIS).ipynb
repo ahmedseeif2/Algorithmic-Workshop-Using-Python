{
 "cells": [
  {
   "cell_type": "code",
   "execution_count": 2,
   "metadata": {},
   "outputs": [],
   "source": [
    "### First, determines whether a subsequence exists"
   ]
  },
  {
   "cell_type": "code",
   "execution_count": 8,
   "metadata": {},
   "outputs": [],
   "source": [
    "def verify_subseq(seq, subseq):\n",
    "    it = iter(seq)\n",
    "    for ch in subseq:      \n",
    "        if ch not in it:    \n",
    "            return False    \n",
    "\n",
    "    return True , len(subseq)   "
   ]
  },
  {
   "cell_type": "code",
   "execution_count": 19,
   "metadata": {},
   "outputs": [
    {
     "data": {
      "text/plain": [
       "(True, 3)"
      ]
     },
     "execution_count": 19,
     "metadata": {},
     "output_type": "execute_result"
    }
   ],
   "source": [
    "verify_subseq([1,2,4,8,9], [1,2,4])"
   ]
  },
  {
   "cell_type": "code",
   "execution_count": null,
   "metadata": {},
   "outputs": [],
   "source": [
    "### Then determines if a subsequence is increasing by comparing each item to its next successor"
   ]
  },
  {
   "cell_type": "code",
   "execution_count": 17,
   "metadata": {},
   "outputs": [],
   "source": [
    "def verify_increasing(seq):\n",
    "    if not seq:         \n",
    "        return True\n",
    "\n",
    "    seq = [character for character in seq]    # convert to a list\n",
    "    comp_seq = seq[1:]          # make separate list without first item\n",
    "    seq.pop()                   # remove last item from original list\n",
    "\n",
    "    # True if every item is less than than its successor\n",
    "    result = all(j < k for j, k in zip(seq, comp_seq))\n",
    "\n",
    "    return result"
   ]
  },
  {
   "cell_type": "code",
   "execution_count": 18,
   "metadata": {},
   "outputs": [
    {
     "data": {
      "text/plain": [
       "False"
      ]
     },
     "execution_count": 18,
     "metadata": {},
     "output_type": "execute_result"
    }
   ],
   "source": [
    "verify_increasing([1,2,4,8,9,5,13,8])"
   ]
  },
  {
   "cell_type": "code",
   "execution_count": null,
   "metadata": {},
   "outputs": [],
   "source": []
  },
  {
   "cell_type": "code",
   "execution_count": 30,
   "metadata": {},
   "outputs": [],
   "source": [
    "def longest_increasing_subsequence(X):\n",
    "    \n",
    "    N = len(X)\n",
    "    P = [0] * N\n",
    "    M = [0] * (N+1) \n",
    "    L = 0\n",
    "    for i in range(N):\n",
    "        lo = 1\n",
    "        hi = L\n",
    "        while lo <= hi:\n",
    "            mid = (lo+hi)//2\n",
    "            if (X[M[mid]] < X[i]):\n",
    "                lo = mid+1\n",
    "            else:\n",
    "                hi = mid-1\n",
    " \n",
    "        newL = lo\n",
    "        P[i] = M[newL-1]                                               \n",
    "        M[newL] = i\n",
    "      \n",
    "       \n",
    "        if (newL > L):\n",
    "            L = newL\n",
    "    S = []\n",
    "    k = M[L]\n",
    "    for i in range(L-1, -1, -1):\n",
    "        S.append(X[k])\n",
    "        k = P[k]\n",
    "       \n",
    "       \n",
    "\n",
    "   \n",
    "    return S[::-1], len(S)"
   ]
  },
  {
   "cell_type": "code",
   "execution_count": 31,
   "metadata": {},
   "outputs": [
    {
     "data": {
      "text/plain": [
       "([1, 2, 4, 8, 9, 14, 26, 652], 8)"
      ]
     },
     "execution_count": 31,
     "metadata": {},
     "output_type": "execute_result"
    }
   ],
   "source": [
    "longest_increasing_subsequence([1,2,4,8,9,5,65,23,89,14,26,786,652])"
   ]
  }
 ],
 "metadata": {
  "kernelspec": {
   "display_name": "Python 3",
   "language": "python",
   "name": "python3"
  },
  "language_info": {
   "codemirror_mode": {
    "name": "ipython",
    "version": 3
   },
   "file_extension": ".py",
   "mimetype": "text/x-python",
   "name": "python",
   "nbconvert_exporter": "python",
   "pygments_lexer": "ipython3",
   "version": "3.8.5"
  }
 },
 "nbformat": 4,
 "nbformat_minor": 4
}
